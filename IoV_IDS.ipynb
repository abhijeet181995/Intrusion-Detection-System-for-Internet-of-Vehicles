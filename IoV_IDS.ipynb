{
  "nbformat": 4,
  "nbformat_minor": 0,
  "metadata": {
    "colab": {
      "name": "IoV_IDS.ipynb",
      "provenance": []
    },
    "kernelspec": {
      "name": "python3",
      "display_name": "Python 3"
    },
    "language_info": {
      "name": "python"
    }
  },
  "cells": [
    {
      "cell_type": "markdown",
      "metadata": {
        "id": "rq-SbHCIpQfK"
      },
      "source": [
        "# DATASET PREPROCESSING"
      ]
    },
    {
      "cell_type": "code",
      "metadata": {
        "colab": {
          "base_uri": "https://localhost:8080/"
        },
        "id": "DP3JgAY7LvJD",
        "outputId": "92c155b8-0b80-4185-d5c7-d494ffda8cbb"
      },
      "source": [
        "# !gdown --id 0Bx1Nsg-bc9ovNGRlVGJteGhGZ3c\n",
        "!gdown --id 1gq7Fq-bVHW8k0V_N08QShWTH9W9AC_7B"
      ],
      "execution_count": null,
      "outputs": [
        {
          "output_type": "stream",
          "name": "stdout",
          "text": [
            "Downloading...\n",
            "From: https://drive.google.com/uc?id=1gq7Fq-bVHW8k0V_N08QShWTH9W9AC_7B\n",
            "To: /content/CICIDS2017_sample.csv\n",
            "100% 19.9M/19.9M [00:00<00:00, 63.2MB/s]\n"
          ]
        }
      ]
    },
    {
      "cell_type": "code",
      "metadata": {
        "colab": {
          "base_uri": "https://localhost:8080/"
        },
        "id": "BDMU45H87Quh",
        "outputId": "ac19e9c7-3cf9-4028-e510-2b876a033536"
      },
      "source": [
        "!pip install -U imbalanced-learn"
      ],
      "execution_count": null,
      "outputs": [
        {
          "output_type": "stream",
          "name": "stdout",
          "text": [
            "Requirement already satisfied: imbalanced-learn in /usr/local/lib/python3.7/dist-packages (0.8.1)\n",
            "Requirement already satisfied: joblib>=0.11 in /usr/local/lib/python3.7/dist-packages (from imbalanced-learn) (1.1.0)\n",
            "Requirement already satisfied: numpy>=1.13.3 in /usr/local/lib/python3.7/dist-packages (from imbalanced-learn) (1.19.5)\n",
            "Requirement already satisfied: scipy>=0.19.1 in /usr/local/lib/python3.7/dist-packages (from imbalanced-learn) (1.4.1)\n",
            "Requirement already satisfied: scikit-learn>=0.24 in /usr/local/lib/python3.7/dist-packages (from imbalanced-learn) (1.0.1)\n",
            "Requirement already satisfied: threadpoolctl>=2.0.0 in /usr/local/lib/python3.7/dist-packages (from scikit-learn>=0.24->imbalanced-learn) (3.0.0)\n"
          ]
        }
      ]
    },
    {
      "cell_type": "code",
      "metadata": {
        "id": "e7Q3Ql5bU0Qt"
      },
      "source": [
        "import numpy as np\n",
        "import pandas as pd\n",
        "import seaborn as sns\n",
        "import matplotlib.pyplot as plt\n",
        "from sklearn.model_selection import train_test_split\n",
        "from sklearn.preprocessing import LabelEncoder \n",
        "from sklearn.metrics import classification_report,confusion_matrix,accuracy_score,precision_recall_fscore_support\n",
        "from sklearn.metrics import f1_score\n",
        "from sklearn.ensemble import RandomForestClassifier,ExtraTreesClassifier\n",
        "from sklearn.tree import DecisionTreeClassifier\n",
        "import xgboost as xgb\n",
        "from xgboost import plot_importance\n",
        "from imblearn.over_sampling import ADASYN "
      ],
      "execution_count": null,
      "outputs": []
    },
    {
      "cell_type": "code",
      "metadata": {
        "id": "2WdZe_TVU8WT"
      },
      "source": [
        "df = pd.read_csv('./CICIDS2017_sample.csv')"
      ],
      "execution_count": null,
      "outputs": []
    },
    {
      "cell_type": "code",
      "metadata": {
        "colab": {
          "base_uri": "https://localhost:8080/",
          "height": 372
        },
        "id": "AdzgaPyCoVQp",
        "outputId": "19dd8e08-7dd2-4d4e-c5ad-721e610966ab"
      },
      "source": [
        "df.describe()"
      ],
      "execution_count": null,
      "outputs": [
        {
          "output_type": "execute_result",
          "data": {
            "text/html": [
              "<div>\n",
              "<style scoped>\n",
              "    .dataframe tbody tr th:only-of-type {\n",
              "        vertical-align: middle;\n",
              "    }\n",
              "\n",
              "    .dataframe tbody tr th {\n",
              "        vertical-align: top;\n",
              "    }\n",
              "\n",
              "    .dataframe thead th {\n",
              "        text-align: right;\n",
              "    }\n",
              "</style>\n",
              "<table border=\"1\" class=\"dataframe\">\n",
              "  <thead>\n",
              "    <tr style=\"text-align: right;\">\n",
              "      <th></th>\n",
              "      <th>Flow Duration</th>\n",
              "      <th>Total Fwd Packets</th>\n",
              "      <th>Total Backward Packets</th>\n",
              "      <th>Total Length of Fwd Packets</th>\n",
              "      <th>Total Length of Bwd Packets</th>\n",
              "      <th>Fwd Packet Length Max</th>\n",
              "      <th>Fwd Packet Length Min</th>\n",
              "      <th>Fwd Packet Length Mean</th>\n",
              "      <th>Fwd Packet Length Std</th>\n",
              "      <th>Bwd Packet Length Max</th>\n",
              "      <th>Bwd Packet Length Min</th>\n",
              "      <th>Bwd Packet Length Mean</th>\n",
              "      <th>Bwd Packet Length Std</th>\n",
              "      <th>Flow Bytes/s</th>\n",
              "      <th>Flow Packets/s</th>\n",
              "      <th>Flow IAT Mean</th>\n",
              "      <th>Flow IAT Std</th>\n",
              "      <th>Flow IAT Max</th>\n",
              "      <th>Flow IAT Min</th>\n",
              "      <th>Fwd IAT Total</th>\n",
              "      <th>Fwd IAT Mean</th>\n",
              "      <th>Fwd IAT Std</th>\n",
              "      <th>Fwd IAT Max</th>\n",
              "      <th>Fwd IAT Min</th>\n",
              "      <th>Bwd IAT Total</th>\n",
              "      <th>Bwd IAT Mean</th>\n",
              "      <th>Bwd IAT Std</th>\n",
              "      <th>Bwd IAT Max</th>\n",
              "      <th>Bwd IAT Min</th>\n",
              "      <th>Fwd PSH Flags</th>\n",
              "      <th>Bwd PSH Flags</th>\n",
              "      <th>Fwd URG Flags</th>\n",
              "      <th>Bwd URG Flags</th>\n",
              "      <th>Fwd Header Length</th>\n",
              "      <th>Bwd Header Length</th>\n",
              "      <th>Fwd Packets/s</th>\n",
              "      <th>Bwd Packets/s</th>\n",
              "      <th>Min Packet Length</th>\n",
              "      <th>Max Packet Length</th>\n",
              "      <th>Packet Length Mean</th>\n",
              "      <th>Packet Length Std</th>\n",
              "      <th>Packet Length Variance</th>\n",
              "      <th>FIN Flag Count</th>\n",
              "      <th>SYN Flag Count</th>\n",
              "      <th>RST Flag Count</th>\n",
              "      <th>PSH Flag Count</th>\n",
              "      <th>ACK Flag Count</th>\n",
              "      <th>URG Flag Count</th>\n",
              "      <th>CWE Flag Count</th>\n",
              "      <th>ECE Flag Count</th>\n",
              "      <th>Down/Up Ratio</th>\n",
              "      <th>Average Packet Size</th>\n",
              "      <th>Avg Fwd Segment Size</th>\n",
              "      <th>Avg Bwd Segment Size</th>\n",
              "      <th>Fwd Header Length.1</th>\n",
              "      <th>Fwd Avg Bytes/Bulk</th>\n",
              "      <th>Fwd Avg Packets/Bulk</th>\n",
              "      <th>Fwd Avg Bulk Rate</th>\n",
              "      <th>Bwd Avg Bytes/Bulk</th>\n",
              "      <th>Bwd Avg Packets/Bulk</th>\n",
              "      <th>Bwd Avg Bulk Rate</th>\n",
              "      <th>Subflow Fwd Packets</th>\n",
              "      <th>Subflow Fwd Bytes</th>\n",
              "      <th>Subflow Bwd Packets</th>\n",
              "      <th>Subflow Bwd Bytes</th>\n",
              "      <th>Init_Win_bytes_forward</th>\n",
              "      <th>Init_Win_bytes_backward</th>\n",
              "      <th>act_data_pkt_fwd</th>\n",
              "      <th>min_seg_size_forward</th>\n",
              "      <th>Active Mean</th>\n",
              "      <th>Active Std</th>\n",
              "      <th>Active Max</th>\n",
              "      <th>Active Min</th>\n",
              "      <th>Idle Mean</th>\n",
              "      <th>Idle Std</th>\n",
              "      <th>Idle Max</th>\n",
              "      <th>Idle Min</th>\n",
              "    </tr>\n",
              "  </thead>\n",
              "  <tbody>\n",
              "    <tr>\n",
              "      <th>count</th>\n",
              "      <td>5.658000e+04</td>\n",
              "      <td>56580.000000</td>\n",
              "      <td>56580.000000</td>\n",
              "      <td>5.658000e+04</td>\n",
              "      <td>5.658000e+04</td>\n",
              "      <td>56580.000000</td>\n",
              "      <td>56580.000000</td>\n",
              "      <td>56580.000000</td>\n",
              "      <td>56580.000000</td>\n",
              "      <td>56580.000000</td>\n",
              "      <td>56580.000000</td>\n",
              "      <td>56580.000000</td>\n",
              "      <td>56580.000000</td>\n",
              "      <td>5.658000e+04</td>\n",
              "      <td>5.658000e+04</td>\n",
              "      <td>5.658000e+04</td>\n",
              "      <td>5.658000e+04</td>\n",
              "      <td>5.658000e+04</td>\n",
              "      <td>5.658000e+04</td>\n",
              "      <td>5.658000e+04</td>\n",
              "      <td>5.658000e+04</td>\n",
              "      <td>5.658000e+04</td>\n",
              "      <td>5.658000e+04</td>\n",
              "      <td>5.658000e+04</td>\n",
              "      <td>5.658000e+04</td>\n",
              "      <td>5.658000e+04</td>\n",
              "      <td>5.658000e+04</td>\n",
              "      <td>5.658000e+04</td>\n",
              "      <td>5.658000e+04</td>\n",
              "      <td>56580.000000</td>\n",
              "      <td>56580.0</td>\n",
              "      <td>56580.000000</td>\n",
              "      <td>56580.0</td>\n",
              "      <td>56580.000000</td>\n",
              "      <td>56580.000000</td>\n",
              "      <td>5.658000e+04</td>\n",
              "      <td>5.658000e+04</td>\n",
              "      <td>56580.000000</td>\n",
              "      <td>56580.000000</td>\n",
              "      <td>56580.000000</td>\n",
              "      <td>56580.000000</td>\n",
              "      <td>5.658000e+04</td>\n",
              "      <td>56580.000000</td>\n",
              "      <td>56580.000000</td>\n",
              "      <td>56580.000000</td>\n",
              "      <td>56580.000000</td>\n",
              "      <td>56580.000000</td>\n",
              "      <td>56580.000000</td>\n",
              "      <td>56580.000000</td>\n",
              "      <td>56580.000000</td>\n",
              "      <td>56580.000000</td>\n",
              "      <td>56580.000000</td>\n",
              "      <td>56580.000000</td>\n",
              "      <td>56580.000000</td>\n",
              "      <td>56580.000000</td>\n",
              "      <td>56580.0</td>\n",
              "      <td>56580.0</td>\n",
              "      <td>56580.0</td>\n",
              "      <td>56580.0</td>\n",
              "      <td>56580.0</td>\n",
              "      <td>56580.0</td>\n",
              "      <td>56580.000000</td>\n",
              "      <td>5.658000e+04</td>\n",
              "      <td>56580.000000</td>\n",
              "      <td>5.658000e+04</td>\n",
              "      <td>56580.000000</td>\n",
              "      <td>56580.000000</td>\n",
              "      <td>56580.000000</td>\n",
              "      <td>56580.000000</td>\n",
              "      <td>5.658000e+04</td>\n",
              "      <td>5.658000e+04</td>\n",
              "      <td>5.658000e+04</td>\n",
              "      <td>5.658000e+04</td>\n",
              "      <td>5.658000e+04</td>\n",
              "      <td>5.658000e+04</td>\n",
              "      <td>5.658000e+04</td>\n",
              "      <td>5.658000e+04</td>\n",
              "    </tr>\n",
              "    <tr>\n",
              "      <th>mean</th>\n",
              "      <td>1.943518e+07</td>\n",
              "      <td>5.899346</td>\n",
              "      <td>5.448533</td>\n",
              "      <td>7.335495e+02</td>\n",
              "      <td>5.289977e+03</td>\n",
              "      <td>166.603393</td>\n",
              "      <td>10.118540</td>\n",
              "      <td>43.213831</td>\n",
              "      <td>57.414468</td>\n",
              "      <td>1554.830134</td>\n",
              "      <td>21.494910</td>\n",
              "      <td>508.463045</td>\n",
              "      <td>644.854237</td>\n",
              "      <td>9.277010e+05</td>\n",
              "      <td>7.784788e+04</td>\n",
              "      <td>1.845205e+06</td>\n",
              "      <td>4.863215e+06</td>\n",
              "      <td>1.603282e+07</td>\n",
              "      <td>1.822564e+05</td>\n",
              "      <td>1.914268e+07</td>\n",
              "      <td>3.514447e+06</td>\n",
              "      <td>6.340282e+06</td>\n",
              "      <td>1.592662e+07</td>\n",
              "      <td>6.538754e+05</td>\n",
              "      <td>8.682916e+06</td>\n",
              "      <td>1.595563e+06</td>\n",
              "      <td>2.162991e+06</td>\n",
              "      <td>5.720259e+06</td>\n",
              "      <td>5.393139e+05</td>\n",
              "      <td>0.038530</td>\n",
              "      <td>0.0</td>\n",
              "      <td>0.000018</td>\n",
              "      <td>0.0</td>\n",
              "      <td>160.228420</td>\n",
              "      <td>145.955567</td>\n",
              "      <td>6.959740e+04</td>\n",
              "      <td>8.250477e+03</td>\n",
              "      <td>8.722322</td>\n",
              "      <td>1607.301997</td>\n",
              "      <td>256.386444</td>\n",
              "      <td>505.203292</td>\n",
              "      <td>1.036491e+06</td>\n",
              "      <td>0.059014</td>\n",
              "      <td>0.038530</td>\n",
              "      <td>0.000141</td>\n",
              "      <td>0.400141</td>\n",
              "      <td>0.364669</td>\n",
              "      <td>0.073224</td>\n",
              "      <td>0.000018</td>\n",
              "      <td>0.000141</td>\n",
              "      <td>0.633510</td>\n",
              "      <td>282.819684</td>\n",
              "      <td>43.213831</td>\n",
              "      <td>508.463045</td>\n",
              "      <td>160.228420</td>\n",
              "      <td>0.0</td>\n",
              "      <td>0.0</td>\n",
              "      <td>0.0</td>\n",
              "      <td>0.0</td>\n",
              "      <td>0.0</td>\n",
              "      <td>0.0</td>\n",
              "      <td>5.899346</td>\n",
              "      <td>7.335495e+02</td>\n",
              "      <td>5.448533</td>\n",
              "      <td>5.289372e+03</td>\n",
              "      <td>8047.932131</td>\n",
              "      <td>2003.000336</td>\n",
              "      <td>3.120237</td>\n",
              "      <td>26.952633</td>\n",
              "      <td>8.139353e+04</td>\n",
              "      <td>2.736039e+04</td>\n",
              "      <td>1.209187e+05</td>\n",
              "      <td>6.493503e+04</td>\n",
              "      <td>1.476543e+07</td>\n",
              "      <td>8.700597e+05</td>\n",
              "      <td>1.542144e+07</td>\n",
              "      <td>1.412669e+07</td>\n",
              "    </tr>\n",
              "    <tr>\n",
              "      <th>std</th>\n",
              "      <td>3.674270e+07</td>\n",
              "      <td>56.939175</td>\n",
              "      <td>66.560471</td>\n",
              "      <td>2.136734e+04</td>\n",
              "      <td>1.093474e+05</td>\n",
              "      <td>669.516266</td>\n",
              "      <td>47.889018</td>\n",
              "      <td>174.204630</td>\n",
              "      <td>224.898191</td>\n",
              "      <td>2775.271519</td>\n",
              "      <td>53.472078</td>\n",
              "      <td>848.403748</td>\n",
              "      <td>1219.682770</td>\n",
              "      <td>2.110127e+07</td>\n",
              "      <td>2.702542e+05</td>\n",
              "      <td>4.805157e+06</td>\n",
              "      <td>9.928740e+06</td>\n",
              "      <td>3.289800e+07</td>\n",
              "      <td>3.313042e+06</td>\n",
              "      <td>3.673218e+07</td>\n",
              "      <td>8.946897e+06</td>\n",
              "      <td>1.352426e+07</td>\n",
              "      <td>3.295312e+07</td>\n",
              "      <td>6.901865e+06</td>\n",
              "      <td>2.659211e+07</td>\n",
              "      <td>7.367544e+06</td>\n",
              "      <td>8.436279e+06</td>\n",
              "      <td>2.069353e+07</td>\n",
              "      <td>6.128549e+06</td>\n",
              "      <td>0.192472</td>\n",
              "      <td>0.0</td>\n",
              "      <td>0.004204</td>\n",
              "      <td>0.0</td>\n",
              "      <td>1218.200185</td>\n",
              "      <td>1357.412561</td>\n",
              "      <td>2.636960e+05</td>\n",
              "      <td>3.978154e+04</td>\n",
              "      <td>19.763447</td>\n",
              "      <td>2819.655139</td>\n",
              "      <td>407.863706</td>\n",
              "      <td>883.941012</td>\n",
              "      <td>2.402070e+06</td>\n",
              "      <td>0.235653</td>\n",
              "      <td>0.192472</td>\n",
              "      <td>0.011890</td>\n",
              "      <td>0.489931</td>\n",
              "      <td>0.481342</td>\n",
              "      <td>0.260506</td>\n",
              "      <td>0.004204</td>\n",
              "      <td>0.011890</td>\n",
              "      <td>0.626346</td>\n",
              "      <td>447.600416</td>\n",
              "      <td>174.204630</td>\n",
              "      <td>848.403748</td>\n",
              "      <td>1218.200185</td>\n",
              "      <td>0.0</td>\n",
              "      <td>0.0</td>\n",
              "      <td>0.0</td>\n",
              "      <td>0.0</td>\n",
              "      <td>0.0</td>\n",
              "      <td>0.0</td>\n",
              "      <td>56.939175</td>\n",
              "      <td>2.136734e+04</td>\n",
              "      <td>66.560471</td>\n",
              "      <td>1.092285e+05</td>\n",
              "      <td>13385.862148</td>\n",
              "      <td>7775.325260</td>\n",
              "      <td>53.274003</td>\n",
              "      <td>6.798056</td>\n",
              "      <td>7.401506e+05</td>\n",
              "      <td>3.342942e+05</td>\n",
              "      <td>9.394422e+05</td>\n",
              "      <td>6.840410e+05</td>\n",
              "      <td>3.215987e+07</td>\n",
              "      <td>6.316148e+06</td>\n",
              "      <td>3.303321e+07</td>\n",
              "      <td>3.192938e+07</td>\n",
              "    </tr>\n",
              "    <tr>\n",
              "      <th>min</th>\n",
              "      <td>1.000000e+00</td>\n",
              "      <td>1.000000</td>\n",
              "      <td>0.000000</td>\n",
              "      <td>0.000000e+00</td>\n",
              "      <td>0.000000e+00</td>\n",
              "      <td>0.000000</td>\n",
              "      <td>0.000000</td>\n",
              "      <td>0.000000</td>\n",
              "      <td>0.000000</td>\n",
              "      <td>0.000000</td>\n",
              "      <td>0.000000</td>\n",
              "      <td>0.000000</td>\n",
              "      <td>0.000000</td>\n",
              "      <td>0.000000e+00</td>\n",
              "      <td>1.679848e-02</td>\n",
              "      <td>5.000000e-01</td>\n",
              "      <td>0.000000e+00</td>\n",
              "      <td>1.000000e+00</td>\n",
              "      <td>-2.000000e+00</td>\n",
              "      <td>0.000000e+00</td>\n",
              "      <td>0.000000e+00</td>\n",
              "      <td>0.000000e+00</td>\n",
              "      <td>0.000000e+00</td>\n",
              "      <td>-1.000000e+00</td>\n",
              "      <td>0.000000e+00</td>\n",
              "      <td>0.000000e+00</td>\n",
              "      <td>0.000000e+00</td>\n",
              "      <td>0.000000e+00</td>\n",
              "      <td>0.000000e+00</td>\n",
              "      <td>0.000000</td>\n",
              "      <td>0.0</td>\n",
              "      <td>0.000000</td>\n",
              "      <td>0.0</td>\n",
              "      <td>0.000000</td>\n",
              "      <td>0.000000</td>\n",
              "      <td>1.679848e-02</td>\n",
              "      <td>0.000000e+00</td>\n",
              "      <td>0.000000</td>\n",
              "      <td>0.000000</td>\n",
              "      <td>0.000000</td>\n",
              "      <td>0.000000</td>\n",
              "      <td>0.000000e+00</td>\n",
              "      <td>0.000000</td>\n",
              "      <td>0.000000</td>\n",
              "      <td>0.000000</td>\n",
              "      <td>0.000000</td>\n",
              "      <td>0.000000</td>\n",
              "      <td>0.000000</td>\n",
              "      <td>0.000000</td>\n",
              "      <td>0.000000</td>\n",
              "      <td>0.000000</td>\n",
              "      <td>0.000000</td>\n",
              "      <td>0.000000</td>\n",
              "      <td>0.000000</td>\n",
              "      <td>0.000000</td>\n",
              "      <td>0.0</td>\n",
              "      <td>0.0</td>\n",
              "      <td>0.0</td>\n",
              "      <td>0.0</td>\n",
              "      <td>0.0</td>\n",
              "      <td>0.0</td>\n",
              "      <td>1.000000</td>\n",
              "      <td>0.000000e+00</td>\n",
              "      <td>0.000000</td>\n",
              "      <td>0.000000e+00</td>\n",
              "      <td>-1.000000</td>\n",
              "      <td>-1.000000</td>\n",
              "      <td>0.000000</td>\n",
              "      <td>0.000000</td>\n",
              "      <td>0.000000e+00</td>\n",
              "      <td>0.000000e+00</td>\n",
              "      <td>0.000000e+00</td>\n",
              "      <td>0.000000e+00</td>\n",
              "      <td>0.000000e+00</td>\n",
              "      <td>0.000000e+00</td>\n",
              "      <td>0.000000e+00</td>\n",
              "      <td>0.000000e+00</td>\n",
              "    </tr>\n",
              "    <tr>\n",
              "      <th>25%</th>\n",
              "      <td>7.300000e+01</td>\n",
              "      <td>1.000000</td>\n",
              "      <td>1.000000</td>\n",
              "      <td>2.000000e+00</td>\n",
              "      <td>0.000000e+00</td>\n",
              "      <td>2.000000</td>\n",
              "      <td>0.000000</td>\n",
              "      <td>2.000000</td>\n",
              "      <td>0.000000</td>\n",
              "      <td>0.000000</td>\n",
              "      <td>0.000000</td>\n",
              "      <td>0.000000</td>\n",
              "      <td>0.000000</td>\n",
              "      <td>3.441602e+01</td>\n",
              "      <td>7.617586e-01</td>\n",
              "      <td>5.900000e+01</td>\n",
              "      <td>0.000000e+00</td>\n",
              "      <td>7.100000e+01</td>\n",
              "      <td>3.000000e+00</td>\n",
              "      <td>0.000000e+00</td>\n",
              "      <td>0.000000e+00</td>\n",
              "      <td>0.000000e+00</td>\n",
              "      <td>0.000000e+00</td>\n",
              "      <td>0.000000e+00</td>\n",
              "      <td>0.000000e+00</td>\n",
              "      <td>0.000000e+00</td>\n",
              "      <td>0.000000e+00</td>\n",
              "      <td>0.000000e+00</td>\n",
              "      <td>0.000000e+00</td>\n",
              "      <td>0.000000</td>\n",
              "      <td>0.0</td>\n",
              "      <td>0.000000</td>\n",
              "      <td>0.0</td>\n",
              "      <td>40.000000</td>\n",
              "      <td>20.000000</td>\n",
              "      <td>5.678805e-01</td>\n",
              "      <td>6.151467e-02</td>\n",
              "      <td>0.000000</td>\n",
              "      <td>6.000000</td>\n",
              "      <td>2.571429</td>\n",
              "      <td>0.000000</td>\n",
              "      <td>0.000000e+00</td>\n",
              "      <td>0.000000</td>\n",
              "      <td>0.000000</td>\n",
              "      <td>0.000000</td>\n",
              "      <td>0.000000</td>\n",
              "      <td>0.000000</td>\n",
              "      <td>0.000000</td>\n",
              "      <td>0.000000</td>\n",
              "      <td>0.000000</td>\n",
              "      <td>0.000000</td>\n",
              "      <td>3.000000</td>\n",
              "      <td>2.000000</td>\n",
              "      <td>0.000000</td>\n",
              "      <td>40.000000</td>\n",
              "      <td>0.0</td>\n",
              "      <td>0.0</td>\n",
              "      <td>0.0</td>\n",
              "      <td>0.0</td>\n",
              "      <td>0.0</td>\n",
              "      <td>0.0</td>\n",
              "      <td>1.000000</td>\n",
              "      <td>2.000000e+00</td>\n",
              "      <td>1.000000</td>\n",
              "      <td>0.000000e+00</td>\n",
              "      <td>110.000000</td>\n",
              "      <td>-1.000000</td>\n",
              "      <td>0.000000</td>\n",
              "      <td>20.000000</td>\n",
              "      <td>0.000000e+00</td>\n",
              "      <td>0.000000e+00</td>\n",
              "      <td>0.000000e+00</td>\n",
              "      <td>0.000000e+00</td>\n",
              "      <td>0.000000e+00</td>\n",
              "      <td>0.000000e+00</td>\n",
              "      <td>0.000000e+00</td>\n",
              "      <td>0.000000e+00</td>\n",
              "    </tr>\n",
              "    <tr>\n",
              "      <th>50%</th>\n",
              "      <td>5.944900e+04</td>\n",
              "      <td>2.000000</td>\n",
              "      <td>2.000000</td>\n",
              "      <td>3.100000e+01</td>\n",
              "      <td>8.100000e+01</td>\n",
              "      <td>20.000000</td>\n",
              "      <td>0.000000</td>\n",
              "      <td>8.666667</td>\n",
              "      <td>0.000000</td>\n",
              "      <td>46.000000</td>\n",
              "      <td>0.000000</td>\n",
              "      <td>29.928571</td>\n",
              "      <td>0.000000</td>\n",
              "      <td>1.714995e+03</td>\n",
              "      <td>8.071050e+01</td>\n",
              "      <td>1.702825e+04</td>\n",
              "      <td>1.374408e+04</td>\n",
              "      <td>4.859800e+04</td>\n",
              "      <td>7.000000e+00</td>\n",
              "      <td>6.750000e+02</td>\n",
              "      <td>3.415000e+02</td>\n",
              "      <td>0.000000e+00</td>\n",
              "      <td>6.050000e+02</td>\n",
              "      <td>3.000000e+00</td>\n",
              "      <td>1.000000e+00</td>\n",
              "      <td>1.000000e+00</td>\n",
              "      <td>0.000000e+00</td>\n",
              "      <td>1.000000e+00</td>\n",
              "      <td>1.000000e+00</td>\n",
              "      <td>0.000000</td>\n",
              "      <td>0.0</td>\n",
              "      <td>0.000000</td>\n",
              "      <td>0.0</td>\n",
              "      <td>64.000000</td>\n",
              "      <td>40.000000</td>\n",
              "      <td>4.098823e+01</td>\n",
              "      <td>4.344003e+00</td>\n",
              "      <td>0.000000</td>\n",
              "      <td>50.000000</td>\n",
              "      <td>40.000000</td>\n",
              "      <td>12.776280</td>\n",
              "      <td>1.632333e+02</td>\n",
              "      <td>0.000000</td>\n",
              "      <td>0.000000</td>\n",
              "      <td>0.000000</td>\n",
              "      <td>0.000000</td>\n",
              "      <td>0.000000</td>\n",
              "      <td>0.000000</td>\n",
              "      <td>0.000000</td>\n",
              "      <td>0.000000</td>\n",
              "      <td>1.000000</td>\n",
              "      <td>48.571429</td>\n",
              "      <td>8.666667</td>\n",
              "      <td>29.928571</td>\n",
              "      <td>64.000000</td>\n",
              "      <td>0.0</td>\n",
              "      <td>0.0</td>\n",
              "      <td>0.0</td>\n",
              "      <td>0.0</td>\n",
              "      <td>0.0</td>\n",
              "      <td>0.0</td>\n",
              "      <td>2.000000</td>\n",
              "      <td>3.100000e+01</td>\n",
              "      <td>2.000000</td>\n",
              "      <td>8.100000e+01</td>\n",
              "      <td>274.000000</td>\n",
              "      <td>0.000000</td>\n",
              "      <td>1.000000</td>\n",
              "      <td>24.000000</td>\n",
              "      <td>0.000000e+00</td>\n",
              "      <td>0.000000e+00</td>\n",
              "      <td>0.000000e+00</td>\n",
              "      <td>0.000000e+00</td>\n",
              "      <td>0.000000e+00</td>\n",
              "      <td>0.000000e+00</td>\n",
              "      <td>0.000000e+00</td>\n",
              "      <td>0.000000e+00</td>\n",
              "    </tr>\n",
              "    <tr>\n",
              "      <th>75%</th>\n",
              "      <td>8.839752e+06</td>\n",
              "      <td>5.000000</td>\n",
              "      <td>5.000000</td>\n",
              "      <td>2.830000e+02</td>\n",
              "      <td>4.867000e+03</td>\n",
              "      <td>195.000000</td>\n",
              "      <td>6.000000</td>\n",
              "      <td>47.750000</td>\n",
              "      <td>78.686539</td>\n",
              "      <td>1460.000000</td>\n",
              "      <td>6.000000</td>\n",
              "      <td>536.747222</td>\n",
              "      <td>658.616786</td>\n",
              "      <td>1.229892e+05</td>\n",
              "      <td>2.898551e+04</td>\n",
              "      <td>1.717790e+06</td>\n",
              "      <td>3.029123e+06</td>\n",
              "      <td>5.773170e+06</td>\n",
              "      <td>6.000000e+01</td>\n",
              "      <td>6.298666e+06</td>\n",
              "      <td>2.429947e+06</td>\n",
              "      <td>3.467893e+06</td>\n",
              "      <td>5.683576e+06</td>\n",
              "      <td>6.700000e+01</td>\n",
              "      <td>1.498912e+05</td>\n",
              "      <td>3.383725e+04</td>\n",
              "      <td>5.598279e+04</td>\n",
              "      <td>1.360388e+05</td>\n",
              "      <td>4.500000e+01</td>\n",
              "      <td>0.000000</td>\n",
              "      <td>0.0</td>\n",
              "      <td>0.000000</td>\n",
              "      <td>0.0</td>\n",
              "      <td>152.000000</td>\n",
              "      <td>132.000000</td>\n",
              "      <td>1.486996e+04</td>\n",
              "      <td>9.132420e+03</td>\n",
              "      <td>6.000000</td>\n",
              "      <td>1689.000000</td>\n",
              "      <td>318.307692</td>\n",
              "      <td>563.655320</td>\n",
              "      <td>3.177073e+05</td>\n",
              "      <td>0.000000</td>\n",
              "      <td>0.000000</td>\n",
              "      <td>0.000000</td>\n",
              "      <td>1.000000</td>\n",
              "      <td>1.000000</td>\n",
              "      <td>0.000000</td>\n",
              "      <td>0.000000</td>\n",
              "      <td>0.000000</td>\n",
              "      <td>1.000000</td>\n",
              "      <td>338.186364</td>\n",
              "      <td>47.750000</td>\n",
              "      <td>536.747222</td>\n",
              "      <td>152.000000</td>\n",
              "      <td>0.0</td>\n",
              "      <td>0.0</td>\n",
              "      <td>0.0</td>\n",
              "      <td>0.0</td>\n",
              "      <td>0.0</td>\n",
              "      <td>0.0</td>\n",
              "      <td>5.000000</td>\n",
              "      <td>2.830000e+02</td>\n",
              "      <td>5.000000</td>\n",
              "      <td>4.867000e+03</td>\n",
              "      <td>8192.000000</td>\n",
              "      <td>235.000000</td>\n",
              "      <td>2.000000</td>\n",
              "      <td>32.000000</td>\n",
              "      <td>0.000000e+00</td>\n",
              "      <td>0.000000e+00</td>\n",
              "      <td>0.000000e+00</td>\n",
              "      <td>0.000000e+00</td>\n",
              "      <td>0.000000e+00</td>\n",
              "      <td>0.000000e+00</td>\n",
              "      <td>0.000000e+00</td>\n",
              "      <td>0.000000e+00</td>\n",
              "    </tr>\n",
              "    <tr>\n",
              "      <th>max</th>\n",
              "      <td>1.200000e+08</td>\n",
              "      <td>6930.000000</td>\n",
              "      <td>9877.000000</td>\n",
              "      <td>2.866110e+06</td>\n",
              "      <td>2.150000e+07</td>\n",
              "      <td>23360.000000</td>\n",
              "      <td>1983.000000</td>\n",
              "      <td>5940.857143</td>\n",
              "      <td>7049.469004</td>\n",
              "      <td>11632.000000</td>\n",
              "      <td>1448.000000</td>\n",
              "      <td>3869.000000</td>\n",
              "      <td>6694.376371</td>\n",
              "      <td>2.070000e+09</td>\n",
              "      <td>3.000000e+06</td>\n",
              "      <td>1.190000e+08</td>\n",
              "      <td>8.190000e+07</td>\n",
              "      <td>1.190000e+08</td>\n",
              "      <td>1.190000e+08</td>\n",
              "      <td>1.200000e+08</td>\n",
              "      <td>1.190000e+08</td>\n",
              "      <td>8.340000e+07</td>\n",
              "      <td>1.190000e+08</td>\n",
              "      <td>1.190000e+08</td>\n",
              "      <td>1.200000e+08</td>\n",
              "      <td>1.190000e+08</td>\n",
              "      <td>7.780000e+07</td>\n",
              "      <td>1.190000e+08</td>\n",
              "      <td>1.190000e+08</td>\n",
              "      <td>1.000000</td>\n",
              "      <td>0.0</td>\n",
              "      <td>1.000000</td>\n",
              "      <td>0.0</td>\n",
              "      <td>152936.000000</td>\n",
              "      <td>197552.000000</td>\n",
              "      <td>3.000000e+06</td>\n",
              "      <td>2.000000e+06</td>\n",
              "      <td>1326.000000</td>\n",
              "      <td>23360.000000</td>\n",
              "      <td>2064.551724</td>\n",
              "      <td>4708.990311</td>\n",
              "      <td>2.220000e+07</td>\n",
              "      <td>1.000000</td>\n",
              "      <td>1.000000</td>\n",
              "      <td>1.000000</td>\n",
              "      <td>1.000000</td>\n",
              "      <td>1.000000</td>\n",
              "      <td>1.000000</td>\n",
              "      <td>1.000000</td>\n",
              "      <td>1.000000</td>\n",
              "      <td>7.000000</td>\n",
              "      <td>2138.285714</td>\n",
              "      <td>5940.857143</td>\n",
              "      <td>3869.000000</td>\n",
              "      <td>152936.000000</td>\n",
              "      <td>0.0</td>\n",
              "      <td>0.0</td>\n",
              "      <td>0.0</td>\n",
              "      <td>0.0</td>\n",
              "      <td>0.0</td>\n",
              "      <td>0.0</td>\n",
              "      <td>6930.000000</td>\n",
              "      <td>2.866110e+06</td>\n",
              "      <td>9877.000000</td>\n",
              "      <td>2.146579e+07</td>\n",
              "      <td>65535.000000</td>\n",
              "      <td>65535.000000</td>\n",
              "      <td>5994.000000</td>\n",
              "      <td>60.000000</td>\n",
              "      <td>1.000000e+08</td>\n",
              "      <td>2.610000e+07</td>\n",
              "      <td>1.000000e+08</td>\n",
              "      <td>1.000000e+08</td>\n",
              "      <td>1.190000e+08</td>\n",
              "      <td>6.860000e+07</td>\n",
              "      <td>1.190000e+08</td>\n",
              "      <td>1.190000e+08</td>\n",
              "    </tr>\n",
              "  </tbody>\n",
              "</table>\n",
              "</div>"
            ],
            "text/plain": [
              "       Flow Duration  Total Fwd Packets  ...      Idle Max      Idle Min\n",
              "count   5.658000e+04       56580.000000  ...  5.658000e+04  5.658000e+04\n",
              "mean    1.943518e+07           5.899346  ...  1.542144e+07  1.412669e+07\n",
              "std     3.674270e+07          56.939175  ...  3.303321e+07  3.192938e+07\n",
              "min     1.000000e+00           1.000000  ...  0.000000e+00  0.000000e+00\n",
              "25%     7.300000e+01           1.000000  ...  0.000000e+00  0.000000e+00\n",
              "50%     5.944900e+04           2.000000  ...  0.000000e+00  0.000000e+00\n",
              "75%     8.839752e+06           5.000000  ...  0.000000e+00  0.000000e+00\n",
              "max     1.200000e+08        6930.000000  ...  1.190000e+08  1.190000e+08\n",
              "\n",
              "[8 rows x 77 columns]"
            ]
          },
          "metadata": {},
          "execution_count": 28
        }
      ]
    },
    {
      "cell_type": "code",
      "metadata": {
        "colab": {
          "base_uri": "https://localhost:8080/"
        },
        "id": "T3uILiGapM7v",
        "outputId": "e6ba55f4-eabd-4499-fe29-980190db85b0"
      },
      "source": [
        "df.info()"
      ],
      "execution_count": null,
      "outputs": [
        {
          "output_type": "stream",
          "name": "stdout",
          "text": [
            "<class 'pandas.core.frame.DataFrame'>\n",
            "Int64Index: 56580 entries, 0 to 56660\n",
            "Data columns (total 78 columns):\n",
            " #   Column                       Non-Null Count  Dtype  \n",
            "---  ------                       --------------  -----  \n",
            " 0   Flow Duration                56580 non-null  int64  \n",
            " 1   Total Fwd Packets            56580 non-null  int64  \n",
            " 2   Total Backward Packets       56580 non-null  int64  \n",
            " 3   Total Length of Fwd Packets  56580 non-null  int64  \n",
            " 4   Total Length of Bwd Packets  56580 non-null  int64  \n",
            " 5   Fwd Packet Length Max        56580 non-null  int64  \n",
            " 6   Fwd Packet Length Min        56580 non-null  int64  \n",
            " 7   Fwd Packet Length Mean       56580 non-null  float64\n",
            " 8   Fwd Packet Length Std        56580 non-null  float64\n",
            " 9   Bwd Packet Length Max        56580 non-null  int64  \n",
            " 10  Bwd Packet Length Min        56580 non-null  int64  \n",
            " 11  Bwd Packet Length Mean       56580 non-null  float64\n",
            " 12  Bwd Packet Length Std        56580 non-null  float64\n",
            " 13  Flow Bytes/s                 56580 non-null  float64\n",
            " 14  Flow Packets/s               56580 non-null  float64\n",
            " 15  Flow IAT Mean                56580 non-null  float64\n",
            " 16  Flow IAT Std                 56580 non-null  float64\n",
            " 17  Flow IAT Max                 56580 non-null  int64  \n",
            " 18  Flow IAT Min                 56580 non-null  int64  \n",
            " 19  Fwd IAT Total                56580 non-null  int64  \n",
            " 20  Fwd IAT Mean                 56580 non-null  float64\n",
            " 21  Fwd IAT Std                  56580 non-null  float64\n",
            " 22  Fwd IAT Max                  56580 non-null  int64  \n",
            " 23  Fwd IAT Min                  56580 non-null  int64  \n",
            " 24  Bwd IAT Total                56580 non-null  int64  \n",
            " 25  Bwd IAT Mean                 56580 non-null  float64\n",
            " 26  Bwd IAT Std                  56580 non-null  float64\n",
            " 27  Bwd IAT Max                  56580 non-null  int64  \n",
            " 28  Bwd IAT Min                  56580 non-null  int64  \n",
            " 29  Fwd PSH Flags                56580 non-null  int64  \n",
            " 30  Bwd PSH Flags                56580 non-null  int64  \n",
            " 31  Fwd URG Flags                56580 non-null  int64  \n",
            " 32  Bwd URG Flags                56580 non-null  int64  \n",
            " 33  Fwd Header Length            56580 non-null  int64  \n",
            " 34  Bwd Header Length            56580 non-null  int64  \n",
            " 35  Fwd Packets/s                56580 non-null  float64\n",
            " 36  Bwd Packets/s                56580 non-null  float64\n",
            " 37  Min Packet Length            56580 non-null  int64  \n",
            " 38  Max Packet Length            56580 non-null  int64  \n",
            " 39  Packet Length Mean           56580 non-null  float64\n",
            " 40  Packet Length Std            56580 non-null  float64\n",
            " 41  Packet Length Variance       56580 non-null  float64\n",
            " 42  FIN Flag Count               56580 non-null  int64  \n",
            " 43  SYN Flag Count               56580 non-null  int64  \n",
            " 44  RST Flag Count               56580 non-null  int64  \n",
            " 45  PSH Flag Count               56580 non-null  int64  \n",
            " 46  ACK Flag Count               56580 non-null  int64  \n",
            " 47  URG Flag Count               56580 non-null  int64  \n",
            " 48  CWE Flag Count               56580 non-null  int64  \n",
            " 49  ECE Flag Count               56580 non-null  int64  \n",
            " 50  Down/Up Ratio                56580 non-null  int64  \n",
            " 51  Average Packet Size          56580 non-null  float64\n",
            " 52  Avg Fwd Segment Size         56580 non-null  float64\n",
            " 53  Avg Bwd Segment Size         56580 non-null  float64\n",
            " 54  Fwd Header Length.1          56580 non-null  int64  \n",
            " 55  Fwd Avg Bytes/Bulk           56580 non-null  int64  \n",
            " 56  Fwd Avg Packets/Bulk         56580 non-null  int64  \n",
            " 57  Fwd Avg Bulk Rate            56580 non-null  int64  \n",
            " 58  Bwd Avg Bytes/Bulk           56580 non-null  int64  \n",
            " 59  Bwd Avg Packets/Bulk         56580 non-null  int64  \n",
            " 60  Bwd Avg Bulk Rate            56580 non-null  int64  \n",
            " 61  Subflow Fwd Packets          56580 non-null  int64  \n",
            " 62  Subflow Fwd Bytes            56580 non-null  int64  \n",
            " 63  Subflow Bwd Packets          56580 non-null  int64  \n",
            " 64  Subflow Bwd Bytes            56580 non-null  int64  \n",
            " 65  Init_Win_bytes_forward       56580 non-null  int64  \n",
            " 66  Init_Win_bytes_backward      56580 non-null  int64  \n",
            " 67  act_data_pkt_fwd             56580 non-null  int64  \n",
            " 68  min_seg_size_forward         56580 non-null  int64  \n",
            " 69  Active Mean                  56580 non-null  float64\n",
            " 70  Active Std                   56580 non-null  float64\n",
            " 71  Active Max                   56580 non-null  int64  \n",
            " 72  Active Min                   56580 non-null  int64  \n",
            " 73  Idle Mean                    56580 non-null  float64\n",
            " 74  Idle Std                     56580 non-null  float64\n",
            " 75  Idle Max                     56580 non-null  int64  \n",
            " 76  Idle Min                     56580 non-null  int64  \n",
            " 77  Label                        56580 non-null  object \n",
            "dtypes: float64(24), int64(53), object(1)\n",
            "memory usage: 34.1+ MB\n"
          ]
        }
      ]
    },
    {
      "cell_type": "code",
      "metadata": {
        "id": "Vl22xwxqNBZm"
      },
      "source": [
        "# x = x.apply(pd.to_numeric, errors='coerce')\n",
        "# x=pd.DataFrame(scaler.fit_transform(x),columns = x.columns)\n",
        "df.replace([np.inf, -np.inf], np.nan, inplace=True)\n",
        "df=df.dropna()"
      ],
      "execution_count": null,
      "outputs": []
    },
    {
      "cell_type": "code",
      "metadata": {
        "id": "aU8sDSAPgQtE"
      },
      "source": [
        "from sklearn.preprocessing import StandardScaler,LabelEncoder\n",
        "scaler = StandardScaler()\n",
        "y= df['Label']\n",
        "x = df.drop('Label', 1)\n",
        "x=pd.DataFrame(scaler.fit_transform(x),columns = x.columns)\n",
        "le = LabelEncoder()\n",
        "y=le.fit_transform(y)"
      ],
      "execution_count": null,
      "outputs": []
    },
    {
      "cell_type": "code",
      "metadata": {
        "id": "3YKwjgSON5d6",
        "colab": {
          "base_uri": "https://localhost:8080/"
        },
        "outputId": "138a1fea-b20a-4a24-e051-691340cfe977"
      },
      "source": [
        "print(np.unique(y,return_counts=True))"
      ],
      "execution_count": null,
      "outputs": [
        {
          "output_type": "stream",
          "name": "stdout",
          "text": [
            "(array([0, 1, 2, 3, 4, 5, 6]), array([22719,  1956,  2767, 18984,    36,  7938,  2180]))\n"
          ]
        }
      ]
    },
    {
      "cell_type": "code",
      "metadata": {
        "id": "LjzCrlbCgUle"
      },
      "source": [
        "# labelencoder = LabelEncoder()\n",
        "# df.iloc[:, -1] = labelencoder.fit_transform(df.iloc[:, -1])\n",
        "# X = df.drop(['Label'],axis=1).values \n",
        "# y = df.iloc[:, -1].values.reshape(-1,1)\n",
        "# y=np.ravel(y)\n",
        "X_train, X_test, y_train, y_test = train_test_split(x,y, train_size = 0.8, test_size = 0.2, random_state = 42)\n",
        "# X_train, X_validate, y_train, y_validate = train_test_split(X_train,y_train,  train_size = 0.8, test_size = 0.2 )"
      ],
      "execution_count": null,
      "outputs": []
    },
    {
      "cell_type": "code",
      "metadata": {
        "id": "ZjGSDpyHgfpb",
        "colab": {
          "base_uri": "https://localhost:8080/"
        },
        "outputId": "1c1b3a96-4d1a-4222-c9fc-286f3ef2b6b1"
      },
      "source": [
        "print(X_train.shape)\n",
        "print(X_test.shape)\n",
        "print(y_train.shape)\n",
        "print(y_test.shape)\n",
        "# print(X_validate.shape)\n",
        "# print(y_validate.shape)"
      ],
      "execution_count": null,
      "outputs": [
        {
          "output_type": "stream",
          "name": "stdout",
          "text": [
            "(45264, 77)\n",
            "(11316, 77)\n",
            "(45264,)\n",
            "(11316,)\n"
          ]
        }
      ]
    },
    {
      "cell_type": "markdown",
      "metadata": {
        "id": "A8qOEJ9CDydO"
      },
      "source": [
        "### Class Imbalance"
      ]
    },
    {
      "cell_type": "code",
      "metadata": {
        "id": "e6IVcKH9goJ-",
        "colab": {
          "base_uri": "https://localhost:8080/"
        },
        "outputId": "2036f34f-300f-4415-dc84-533d42c95108"
      },
      "source": [
        "import numpy as np\n",
        "np.unique(y_train, return_counts=True)"
      ],
      "execution_count": null,
      "outputs": [
        {
          "output_type": "execute_result",
          "data": {
            "text/plain": [
              "(array([0, 1, 2, 3, 4, 5, 6]),\n",
              " array([18274,  1555,  2201, 15095,    28,  6353,  1758]))"
            ]
          },
          "metadata": {},
          "execution_count": 35
        }
      ]
    },
    {
      "cell_type": "code",
      "metadata": {
        "colab": {
          "base_uri": "https://localhost:8080/"
        },
        "id": "7uz6GeQD7hvl",
        "outputId": "7304cca5-a6cb-4f39-ce57-ad9c99cb0eab"
      },
      "source": [
        "sm = ADASYN()\n",
        "X_train_r, y_train_r = sm.fit_resample(X_train, y_train)\n",
        "print(X_train_r.shape)\n",
        "print(y_train_r.shape)"
      ],
      "execution_count": null,
      "outputs": [
        {
          "output_type": "stream",
          "name": "stdout",
          "text": [
            "(127823, 77)\n",
            "(127823,)\n"
          ]
        }
      ]
    },
    {
      "cell_type": "code",
      "metadata": {
        "id": "dB7sB67Cg4sx",
        "colab": {
          "base_uri": "https://localhost:8080/"
        },
        "outputId": "e91adf8e-fd6e-4bd2-ee73-4d43fd728a82"
      },
      "source": [
        "np.unique(y_train_r, return_counts=True)"
      ],
      "execution_count": null,
      "outputs": [
        {
          "output_type": "execute_result",
          "data": {
            "text/plain": [
              "(array([0, 1, 2, 3, 4, 5, 6]),\n",
              " array([18274, 18222, 18261, 18251, 18271, 18260, 18284]))"
            ]
          },
          "metadata": {},
          "execution_count": 37
        }
      ]
    },
    {
      "cell_type": "markdown",
      "metadata": {
        "id": "8MpdtdoQDrG6"
      },
      "source": [
        "# Model Training"
      ]
    },
    {
      "cell_type": "code",
      "metadata": {
        "id": "w4E8Qo-_uyvV"
      },
      "source": [
        "from sklearn.ensemble import RandomForestClassifier\n",
        "from sklearn.ensemble import VotingClassifier\n",
        "import xgboost as xgb\n",
        "from lightgbm import LGBMClassifier\n",
        "\n",
        "\n",
        "import xgboost as xgb\n",
        "xgb_cl = xgb.XGBClassifier()\n",
        "rnd_clf = RandomForestClassifier(n_estimators=100)\n",
        "lgm_clf= LGBMClassifier()\n",
        "\n",
        "voting_clf = VotingClassifier(\n",
        "    estimators=[('xg',xgb_cl), ('rnf', rnd_clf), ('abd', lgm_clf)],\n",
        "    voting='soft',weights=[1,1,2])"
      ],
      "execution_count": null,
      "outputs": []
    },
    {
      "cell_type": "code",
      "metadata": {
        "id": "b34IukD7u0iB",
        "colab": {
          "base_uri": "https://localhost:8080/"
        },
        "outputId": "81015f0a-25e2-4460-c3ec-8b0d83825d5e"
      },
      "source": [
        "rnd_clf.fit(X_train_r, y_train_r)\n",
        "y_pred = rnd_clf.predict(X_test)\n",
        "print(rnd_clf.__class__.__name__, accuracy_score(y_test, y_pred))"
      ],
      "execution_count": null,
      "outputs": [
        {
          "output_type": "stream",
          "name": "stdout",
          "text": [
            "RandomForestClassifier 0.9917815482502651\n"
          ]
        }
      ]
    },
    {
      "cell_type": "code",
      "metadata": {
        "colab": {
          "base_uri": "https://localhost:8080/"
        },
        "id": "fMe80GNYv8eX",
        "outputId": "ac53a54d-d788-4a22-a81d-f238a1a960b4"
      },
      "source": [
        "from sklearn.metrics import accuracy_score\n",
        "\n",
        "for clf in (xgb_cl, rnd_clf, lgm_clf, voting_clf):\n",
        "    clf.fit(X_train_r, y_train_r)\n",
        "    y_pred = clf.predict(X_test)\n",
        "    print(clf.__class__.__name__, accuracy_score(y_test, y_pred))\n",
        "    print(classification_report(y_test,y_pred))\n",
        "    print('--------------------')"
      ],
      "execution_count": null,
      "outputs": [
        {
          "output_type": "stream",
          "name": "stdout",
          "text": [
            "XGBClassifier 0.9799586426299046\n",
            "              precision    recall  f1-score   support\n",
            "\n",
            "           0       1.00      0.94      0.97      4445\n",
            "           1       0.83      1.00      0.91       401\n",
            "           2       0.99      1.00      0.99       566\n",
            "           3       0.99      0.99      0.99      3889\n",
            "           4       0.64      0.88      0.74         8\n",
            "           5       0.99      1.00      1.00      1585\n",
            "           6       0.75      0.99      0.86       422\n",
            "\n",
            "    accuracy                           0.97     11316\n",
            "   macro avg       0.88      0.97      0.92     11316\n",
            "weighted avg       0.98      0.97      0.97     11316\n",
            "\n",
            "--------------------\n",
            "RandomForestClassifier 0.9915164369034994\n",
            "              precision    recall  f1-score   support\n",
            "\n",
            "           0       1.00      0.98      0.99      4445\n",
            "           1       0.88      1.00      0.93       401\n",
            "           2       0.99      1.00      1.00       566\n",
            "           3       1.00      1.00      1.00      3889\n",
            "           4       1.00      0.75      0.86         8\n",
            "           5       1.00      1.00      1.00      1585\n",
            "           6       0.97      0.98      0.97       422\n",
            "\n",
            "    accuracy                           0.99     11316\n",
            "   macro avg       0.98      0.96      0.96     11316\n",
            "weighted avg       0.99      0.99      0.99     11316\n",
            "\n",
            "--------------------\n",
            "LGBMClassifier 0.9919749593495935\n",
            "              precision    recall  f1-score   support\n",
            "\n",
            "           0       1.00      0.99      1.00      4445\n",
            "           1       0.95      1.00      0.97       401\n",
            "           2       1.00      1.00      1.00       566\n",
            "           3       1.00      1.00      1.00      3889\n",
            "           4       1.00      0.88      0.93         8\n",
            "           5       1.00      1.00      1.00      1585\n",
            "           6       0.99      1.00      0.99       422\n",
            "\n",
            "    accuracy                           1.00     11316\n",
            "   macro avg       0.99      0.98      0.98     11316\n",
            "weighted avg       1.00      1.00      1.00     11316\n",
            "\n",
            "--------------------\n",
            "VotingClassifier 0.992079179922234\n",
            "              precision    recall  f1-score   support\n",
            "\n",
            "           0       1.00      0.99      0.99      4445\n",
            "           1       0.91      1.00      0.95       401\n",
            "           2       1.00      1.00      1.00       566\n",
            "           3       1.00      1.00      1.00      3889\n",
            "           4       1.00      0.88      0.93         8\n",
            "           5       1.00      1.00      1.00      1585\n",
            "           6       0.98      1.00      0.99       422\n",
            "\n",
            "    accuracy                           0.99     11316\n",
            "   macro avg       0.98      0.98      0.98     11316\n",
            "weighted avg       0.99      0.99      0.99     11316\n",
            "\n",
            "--------------------\n"
          ]
        }
      ]
    },
    {
      "cell_type": "code",
      "metadata": {
        "id": "XZ469lNgu9eS",
        "colab": {
          "base_uri": "https://localhost:8080/",
          "height": 607
        },
        "outputId": "7b9f0ce5-b735-498b-ca4c-825ed3c4c84d"
      },
      "source": [
        "from sklearn.metrics import accuracy_score,roc_auc_score,f1_score\n",
        "y_pred = voting_clf.predict(X_test)\n",
        "import sklearn.preprocessing\n",
        "print('Accuracy',accuracy_score(y_test, y_pred))\n",
        "print('f1_score',f1_score(y_test,y_pred,average='micro'))\n",
        "print(classification_report(y_test,y_pred))\n",
        "cm=confusion_matrix(y_test,y_pred)\n",
        "f,ax=plt.subplots(figsize=(5,5))\n",
        "sns.heatmap(cm,annot=True,linewidth=0.5,linecolor=\"red\",fmt=\".0f\",ax=ax)\n",
        "plt.xlabel(\"y_pred\")\n",
        "plt.ylabel(\"y_true\")\n",
        "plt.show()\n"
      ],
      "execution_count": null,
      "outputs": [
        {
          "output_type": "stream",
          "name": "stdout",
          "text": [
            "Accuracy 0.992079179922234\n",
            "f1_score 0.992079179922234\n",
            "              precision    recall  f1-score   support\n",
            "\n",
            "           0       1.00      0.98      0.99      4543\n",
            "           1       0.87      1.00      0.93       387\n",
            "           2       1.00      1.00      1.00       543\n",
            "           3       1.00      1.00      1.00      3787\n",
            "           4       1.00      0.71      0.83         7\n",
            "           5       1.00      1.00      1.00      1607\n",
            "           6       0.99      1.00      0.99       442\n",
            "\n",
            "    accuracy                           0.99     11316\n",
            "   macro avg       0.98      0.96      0.96     11316\n",
            "weighted avg       0.99      0.99      0.99     11316\n",
            "\n"
          ]
        },
        {
          "output_type": "display_data",
          "data": {
            "image/png": "[encoded data removed]",
            "text/plain": [
              "<Figure size 360x360 with 2 Axes>"
            ]
          },
          "metadata": {
            "needs_background": "light"
          }
        }
      ]
    },
    {
      "cell_type": "markdown",
      "metadata": {
        "id": "3f9ndU2tXduR"
      },
      "source": [
        "**Feature Select**"
      ]
    },
    {
      "cell_type": "code",
      "metadata": {
        "colab": {
          "base_uri": "https://localhost:8080/"
        },
        "id": "eE4zIqpzadCZ",
        "outputId": "3563b04f-30b8-40b8-b080-bed97b5d19ac"
      },
      "source": [
        "from sklearn.feature_selection import SelectFromModel\n",
        "sel = SelectFromModel(RandomForestClassifier(n_estimators = 100))\n",
        "sel.fit(X_train_r, y_train_r)"
      ],
      "execution_count": null,
      "outputs": [
        {
          "output_type": "execute_result",
          "data": {
            "text/plain": [
              "SelectFromModel(estimator=RandomForestClassifier())"
            ]
          },
          "metadata": {},
          "execution_count": 156
        }
      ]
    },
    {
      "cell_type": "code",
      "metadata": {
        "colab": {
          "base_uri": "https://localhost:8080/"
        },
        "id": "xiIgtQYf50U6",
        "outputId": "e42ccffc-d8ee-4e7a-f50c-f6a48b64de59"
      },
      "source": [
        "sel.get_support()"
      ],
      "execution_count": null,
      "outputs": [
        {
          "output_type": "execute_result",
          "data": {
            "text/plain": [
              "array([False,  True, False,  True,  True,  True,  True,  True, False,\n",
              "       False,  True,  True, False, False,  True, False, False, False,\n",
              "       False, False, False, False, False, False, False, False, False,\n",
              "       False, False, False, False, False, False,  True,  True,  True,\n",
              "        True,  True,  True,  True,  True,  True, False, False, False,\n",
              "       False, False,  True, False, False, False,  True,  True,  True,\n",
              "        True, False, False, False, False, False, False,  True,  True,\n",
              "       False, False,  True,  True,  True,  True, False, False, False,\n",
              "       False, False, False, False, False])"
            ]
          },
          "metadata": {},
          "execution_count": 157
        }
      ]
    },
    {
      "cell_type": "code",
      "metadata": {
        "colab": {
          "base_uri": "https://localhost:8080/"
        },
        "id": "vYUbTZYz6KRS",
        "outputId": "4250a34b-52be-4ac2-815a-10424e7ebf74"
      },
      "source": [
        "selected_feat= X_train_r.columns[(sel.get_support())]\n",
        "len(selected_feat)"
      ],
      "execution_count": null,
      "outputs": [
        {
          "output_type": "execute_result",
          "data": {
            "text/plain": [
              "29"
            ]
          },
          "metadata": {},
          "execution_count": 158
        }
      ]
    },
    {
      "cell_type": "code",
      "metadata": {
        "colab": {
          "base_uri": "https://localhost:8080/"
        },
        "id": "rLshxKPc6S6c",
        "outputId": "564aee32-1ede-4085-9d7c-d61fce1162c7"
      },
      "source": [
        "print(selected_feat)"
      ],
      "execution_count": null,
      "outputs": [
        {
          "output_type": "stream",
          "name": "stdout",
          "text": [
            "Index(['Total Fwd Packets', 'Total Length of Fwd Packets',\n",
            "       'Total Length of Bwd Packets', 'Fwd Packet Length Max',\n",
            "       'Fwd Packet Length Min', 'Fwd Packet Length Mean',\n",
            "       'Bwd Packet Length Min', 'Bwd Packet Length Mean', 'Flow Packets/s',\n",
            "       'Fwd Header Length', 'Bwd Header Length', 'Fwd Packets/s',\n",
            "       'Bwd Packets/s', 'Min Packet Length', 'Max Packet Length',\n",
            "       'Packet Length Mean', 'Packet Length Std', 'Packet Length Variance',\n",
            "       'URG Flag Count', 'Average Packet Size', 'Avg Fwd Segment Size',\n",
            "       'Avg Bwd Segment Size', 'Fwd Header Length.1', 'Subflow Fwd Packets',\n",
            "       'Subflow Fwd Bytes', 'Init_Win_bytes_forward',\n",
            "       'Init_Win_bytes_backward', 'act_data_pkt_fwd', 'min_seg_size_forward'],\n",
            "      dtype='object')\n"
          ]
        }
      ]
    },
    {
      "cell_type": "code",
      "metadata": {
        "id": "R-ANp4QhKTxv"
      },
      "source": [
        ""
      ],
      "execution_count": null,
      "outputs": []
    },
    {
      "cell_type": "code",
      "metadata": {
        "id": "jEulH-LB-gOg"
      },
      "source": [
        "from sklearn.model_selection import GridSearchCV\n",
        "params = {'xgb_cl__criterion': ['gini', 'entropy'],\n",
        "      'svm__C': [2,3,4],}\n",
        "xgb_cl"
      ],
      "execution_count": null,
      "outputs": []
    },
    {
      "cell_type": "code",
      "metadata": {
        "id": "hnIF27wm6YNf"
      },
      "source": [
        "X_train_r_fr=X_train_r[selected_feat]\n",
        "X_test_fr=X_test[selected_feat]"
      ],
      "execution_count": null,
      "outputs": []
    },
    {
      "cell_type": "code",
      "metadata": {
        "id": "GHq67QRn8Nm8",
        "colab": {
          "base_uri": "https://localhost:8080/"
        },
        "outputId": "1bc05585-5db7-4fe9-ef7e-2b971f96645e"
      },
      "source": [
        "from sklearn.metrics import accuracy_score\n",
        "\n",
        "for clf in (xgb_cl, rnd_clf, lgm_clf, voting_clf):\n",
        "    clf.fit(X_train_r_fr, y_train_r)\n",
        "    y_pred = clf.predict(X_test_fr)\n",
        "    print(clf.__class__.__name__, accuracy_score(y_test, y_pred))\n",
        "    print(classification_report(y_test,y_pred))\n",
        "    print('--------------------')"
      ],
      "execution_count": null,
      "outputs": [
        {
          "output_type": "stream",
          "name": "stdout",
          "text": [
            "XGBClassifier 0.9697773064687168\n",
            "              precision    recall  f1-score   support\n",
            "\n",
            "           0       1.00      0.93      0.96      4543\n",
            "           1       0.79      1.00      0.88       387\n",
            "           2       1.00      1.00      1.00       543\n",
            "           3       0.99      0.99      0.99      3787\n",
            "           4       0.62      0.71      0.67         7\n",
            "           5       0.99      1.00      0.99      1607\n",
            "           6       0.75      1.00      0.85       442\n",
            "\n",
            "    accuracy                           0.97     11316\n",
            "   macro avg       0.88      0.95      0.91     11316\n",
            "weighted avg       0.98      0.97      0.97     11316\n",
            "\n",
            "--------------------\n",
            "RandomForestClassifier 0.9944326617179216\n",
            "              precision    recall  f1-score   support\n",
            "\n",
            "           0       1.00      0.99      0.99      4543\n",
            "           1       0.95      0.99      0.97       387\n",
            "           2       1.00      1.00      1.00       543\n",
            "           3       1.00      1.00      1.00      3787\n",
            "           4       1.00      0.71      0.83         7\n",
            "           5       1.00      1.00      1.00      1607\n",
            "           6       0.97      1.00      0.98       442\n",
            "\n",
            "    accuracy                           0.99     11316\n",
            "   macro avg       0.99      0.95      0.97     11316\n",
            "weighted avg       0.99      0.99      0.99     11316\n",
            "\n",
            "--------------------\n",
            "LGBMClassifier 0.9943024390243902\n",
            "              precision    recall  f1-score   support\n",
            "\n",
            "           0       1.00      0.99      0.99      4543\n",
            "           1       0.94      1.00      0.97       387\n",
            "           2       1.00      1.00      1.00       543\n",
            "           3       1.00      1.00      1.00      3787\n",
            "           4       1.00      0.71      0.83         7\n",
            "           5       0.99      1.00      1.00      1607\n",
            "           6       0.96      1.00      0.98       442\n",
            "\n",
            "    accuracy                           0.99     11316\n",
            "   macro avg       0.99      0.96      0.97     11316\n",
            "weighted avg       0.99      0.99      0.99     11316\n",
            "\n",
            "--------------------\n",
            "VotingClassifier 0.9939024390243902\n",
            "              precision    recall  f1-score   support\n",
            "\n",
            "           0       1.00      0.99      0.99      4543\n",
            "           1       0.94      0.99      0.98       387\n",
            "           2       1.00      1.00      1.00       543\n",
            "           3       1.00      1.00      1.00      3787\n",
            "           4       1.00      0.71      0.83         7\n",
            "           5       1.00      1.00      1.00      1607\n",
            "           6       0.96      1.00      0.98       442\n",
            "\n",
            "    accuracy                           0.99     11316\n",
            "   macro avg       0.98      0.96      0.97     11316\n",
            "weighted avg       0.99      0.99      0.99     11316\n",
            "\n",
            "--------------------\n"
          ]
        }
      ]
    },
    {
      "cell_type": "code",
      "metadata": {
        "colab": {
          "base_uri": "https://localhost:8080/"
        },
        "id": "1vacrAXNwlFg",
        "outputId": "f88664ec-63f6-49e1-d430-0a4824898327"
      },
      "source": [
        "!pip install beautifultable\n",
        "from beautifultable import BeautifulTable\n",
        "table = BeautifulTable(maxwidth=130)\n",
        "\n",
        "table.rows.append([\"HongPo Zhnag\", \"CICIDS2017\", \"SGM\", \"multiclass\",\"RF\\nMLP\\nCNN\", \"93.08\\n99.60\\n99.85\",\" \" ,\" \", \"94.67\\n99.69\\n99.86\"])\n",
        "table.rows.append([\"Arif Yulianto et al(2019)\", \"CICIDS2017\", \"SMOTE\" ,\"binary\",\"AdaBoost\", \"81.83\",\" \" ,\" \", \"90.01\"])\n",
        "table.rows.append([\"Razab abdulhammed et al(2019)\", \"CICIDS2017\", \"UDBB\", \"multiclass\",\"RF\\nNB\\nLDA\\nQDA\", \"98.8\\n97.6\\n95.7\\n98.9\",\" \" ,\" \", \"98.8\\n97.7\\n95.7\\n99.0\"])\n",
        "table.rows.append([\"Aameer Hanif et al(2017)\", \"Customer\\nChurn\", \"UnderSampling\\nOverSampling SMOTE\" ,\"binary\",\"RF\", \"\",\" \" ,\"98.5\", \"97\"])\n",
        "table.rows.append([\"Cengiz Colak et al(2017)\", \"Atrial fibrillation\", \"SMOTE\" ,\"binary\",\"GLMBoost\\nLogitBoost\", \"82.47\\n96.65\",\" \" ,\"82.5\\n96.96\", \"\"])\n",
        "table.rows.append([\"Our work\", \"CICIDS2017\", \"ADASYN\", \"mutliclass\",\"RF\\nXgBoost\\nVotingClassifier\", \"82.47\\n96.65\",\" \" ,\"82.5\\n96.96\", \"\"])\n",
        "table.columns.header = [\"Works\", \"Dataset\", \"method\", \"Classes\", \"Classifier\",\"Acc(%)\",\"Kappa(%)\",\"AUC(%)\",\"F1(%)\"]\n",
        "table.columns.alignment = BeautifulTable.ALIGN_RIGHT\n",
        "table.set_style(BeautifulTable.STYLE_BOX_ROUNDED)\n",
        "print(table)\n"
      ],
      "execution_count": null,
      "outputs": [
        {
          "output_type": "stream",
          "name": "stdout",
          "text": [
            "Collecting beautifultable\n",
            "  Downloading beautifultable-1.0.1-py2.py3-none-any.whl (27 kB)\n",
            "Requirement already satisfied: wcwidth in /usr/local/lib/python3.7/dist-packages (from beautifultable) (0.2.5)\n",
            "Installing collected packages: beautifultable\n",
            "Successfully installed beautifultable-1.0.1\n",
            "╭───────────────────────────┬─────────────────┬────────────────┬────────────┬───────────────┬────────┬──────────┬────────┬───────╮\n",
            "│                     Works │         Dataset │         method │    Classes │    Classifier │ Acc(%) │ Kappa(%) │ AUC(%) │ F1(%) │\n",
            "├───────────────────────────┼─────────────────┼────────────────┼────────────┼───────────────┼────────┼──────────┼────────┼───────┤\n",
            "│              HongPo Zhnag │      CICIDS2017 │            SGM │ multiclass │            RF │  93.08 │          │        │ 94.67 │\n",
            "│                           │                 │                │            │           MLP │   99.6 │          │        │ 99.69 │\n",
            "│                           │                 │                │            │           CNN │  99.85 │          │        │ 99.86 │\n",
            "├───────────────────────────┼─────────────────┼────────────────┼────────────┼───────────────┼────────┼──────────┼────────┼───────┤\n",
            "│ Arif Yulianto et al(2019) │      CICIDS2017 │          SMOTE │     binary │      AdaBoost │  81.83 │          │        │ 90.01 │\n",
            "├───────────────────────────┼─────────────────┼────────────────┼────────────┼───────────────┼────────┼──────────┼────────┼───────┤\n",
            "│ Razab abdulhammed et al(2 │      CICIDS2017 │           UDBB │ multiclass │            RF │   98.8 │          │        │  98.8 │\n",
            "│                      019) │                 │                │            │               │        │          │        │       │\n",
            "│                           │                 │                │            │            NB │   97.6 │          │        │  97.7 │\n",
            "│                           │                 │                │            │           LDA │   95.7 │          │        │  95.7 │\n",
            "│                           │                 │                │            │           QDA │   98.9 │          │        │  99.0 │\n",
            "├───────────────────────────┼─────────────────┼────────────────┼────────────┼───────────────┼────────┼──────────┼────────┼───────┤\n",
            "│  Aameer Hanif et al(2017) │        Customer │  UnderSampling │     binary │            RF │        │          │   98.5 │    97 │\n",
            "│                           │           Churn │ OverSampling S │            │               │        │          │        │       │\n",
            "│                           │                 │           MOTE │            │               │        │          │        │       │\n",
            "├───────────────────────────┼─────────────────┼────────────────┼────────────┼───────────────┼────────┼──────────┼────────┼───────┤\n",
            "│  Cengiz Colak et al(2017) │ Atrial fibrilla │          SMOTE │     binary │      GLMBoost │  82.47 │          │   82.5 │       │\n",
            "│                           │            tion │                │            │               │        │          │        │       │\n",
            "│                           │                 │                │            │    LogitBoost │  96.65 │          │  96.96 │       │\n",
            "├───────────────────────────┼─────────────────┼────────────────┼────────────┼───────────────┼────────┼──────────┼────────┼───────┤\n",
            "│                  Our work │      CICIDS2017 │         ADASYN │ mutliclass │            RF │  82.47 │          │   82.5 │       │\n",
            "│                           │                 │                │            │       XgBoost │  96.65 │          │  96.96 │       │\n",
            "│                           │                 │                │            │ VotingClassif │        │          │        │       │\n",
            "│                           │                 │                │            │           ier │        │          │        │       │\n",
            "╰───────────────────────────┴─────────────────┴────────────────┴────────────┴───────────────┴────────┴──────────┴────────┴───────╯\n"
          ]
        }
      ]
    }
  ]
}